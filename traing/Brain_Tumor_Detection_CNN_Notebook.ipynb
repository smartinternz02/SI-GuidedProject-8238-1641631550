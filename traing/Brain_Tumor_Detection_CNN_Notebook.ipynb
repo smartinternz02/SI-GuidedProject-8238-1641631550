{
 "cells": [
  {
   "cell_type": "markdown",
   "id": "b41ef076",
   "metadata": {},
   "source": [
    "# Importing Libraries"
   ]
  },
  {
   "cell_type": "code",
   "execution_count": 21,
   "id": "e42df417",
   "metadata": {},
   "outputs": [],
   "source": [
    "from tensorflow.keras.preprocessing.image import ImageDataGenerator"
   ]
  },
  {
   "cell_type": "code",
   "execution_count": 22,
   "id": "33f0a1d3",
   "metadata": {},
   "outputs": [],
   "source": [
    "train_datagen=ImageDataGenerator(rescale=1./255,zoom_range=0.2,horizontal_flip=True,vertical_flip=False)"
   ]
  },
  {
   "cell_type": "code",
   "execution_count": 23,
   "id": "4b0e077a",
   "metadata": {},
   "outputs": [],
   "source": [
    "test_datagen=ImageDataGenerator(rescale=1/255)"
   ]
  },
  {
   "cell_type": "code",
   "execution_count": 24,
   "id": "ff862c59",
   "metadata": {},
   "outputs": [
    {
     "name": "stdout",
     "output_type": "stream",
     "text": [
      "Found 180 images belonging to 2 classes.\n"
     ]
    }
   ],
   "source": [
    "x_train=train_datagen.flow_from_directory(r\"F:\\ML&DL-Inter\\Brain_Tumor_Train_Test_Folders\\train_set\",target_size=(64,64),\n",
    "                                          class_mode='categorical',batch_size=100)"
   ]
  },
  {
   "cell_type": "code",
   "execution_count": 25,
   "id": "676e7f0b",
   "metadata": {},
   "outputs": [
    {
     "name": "stdout",
     "output_type": "stream",
     "text": [
      "Found 73 images belonging to 2 classes.\n"
     ]
    }
   ],
   "source": [
    "x_test=test_datagen.flow_from_directory(r\"F:\\ML&DL-Inter\\Brain_Tumor_Train_Test_Folders\\test_set\",target_size=(64,64),\n",
    "                                       class_mode='categorical',batch_size=100)"
   ]
  },
  {
   "cell_type": "code",
   "execution_count": 26,
   "id": "ffb4d5a9",
   "metadata": {},
   "outputs": [
    {
     "data": {
      "text/plain": [
       "{'no': 0, 'yes': 1}"
      ]
     },
     "execution_count": 26,
     "metadata": {},
     "output_type": "execute_result"
    }
   ],
   "source": [
    "x_train.class_indices"
   ]
  },
  {
   "cell_type": "code",
   "execution_count": 27,
   "id": "4313bee2",
   "metadata": {},
   "outputs": [],
   "source": [
    "from tensorflow.keras.models import Sequential\n",
    "from tensorflow.keras.layers import Dense,Convolution2D,MaxPooling2D,Flatten\n"
   ]
  },
  {
   "cell_type": "code",
   "execution_count": 28,
   "id": "b4719962",
   "metadata": {},
   "outputs": [],
   "source": [
    "model=Sequential()"
   ]
  },
  {
   "cell_type": "code",
   "execution_count": 29,
   "id": "40c4fc52",
   "metadata": {},
   "outputs": [],
   "source": [
    "model.add(Convolution2D(32,(3,3),activation='relu',input_shape=(64,64,3)))"
   ]
  },
  {
   "cell_type": "code",
   "execution_count": 30,
   "id": "5d3eeb57",
   "metadata": {},
   "outputs": [],
   "source": [
    "model.add(MaxPooling2D(pool_size=(2,2)))"
   ]
  },
  {
   "cell_type": "code",
   "execution_count": 31,
   "id": "9fe347be",
   "metadata": {},
   "outputs": [],
   "source": [
    "model.add(Flatten())"
   ]
  },
  {
   "cell_type": "code",
   "execution_count": 32,
   "id": "e2b233dc",
   "metadata": {},
   "outputs": [
    {
     "name": "stdout",
     "output_type": "stream",
     "text": [
      "Model: \"sequential_1\"\n",
      "_________________________________________________________________\n",
      "Layer (type)                 Output Shape              Param #   \n",
      "=================================================================\n",
      "conv2d_1 (Conv2D)            (None, 62, 62, 32)        896       \n",
      "_________________________________________________________________\n",
      "max_pooling2d_1 (MaxPooling2 (None, 31, 31, 32)        0         \n",
      "_________________________________________________________________\n",
      "flatten_1 (Flatten)          (None, 30752)             0         \n",
      "=================================================================\n",
      "Total params: 896\n",
      "Trainable params: 896\n",
      "Non-trainable params: 0\n",
      "_________________________________________________________________\n"
     ]
    }
   ],
   "source": [
    "model.summary()"
   ]
  },
  {
   "cell_type": "code",
   "execution_count": 33,
   "id": "3b77baec",
   "metadata": {},
   "outputs": [],
   "source": [
    "model.add(Dense(300,activation=\"relu\"))\n",
    "model.add(Dense(150,activation=\"relu\"))"
   ]
  },
  {
   "cell_type": "code",
   "execution_count": 34,
   "id": "4126f1fe",
   "metadata": {},
   "outputs": [],
   "source": [
    "model.add(Dense(2,activation=\"softmax\"))"
   ]
  },
  {
   "cell_type": "code",
   "execution_count": 35,
   "id": "44c6d6d8",
   "metadata": {},
   "outputs": [],
   "source": [
    "model.compile(loss=\"categorical_crossentropy\",optimizer='adam',metrics=['accuracy'])"
   ]
  },
  {
   "cell_type": "code",
   "execution_count": 36,
   "id": "bab1394c",
   "metadata": {},
   "outputs": [
    {
     "name": "stdout",
     "output_type": "stream",
     "text": [
      "Epoch 1/10\n",
      "2/2 [==============================] - 2s 959ms/step - loss: 2.2916 - accuracy: 0.5056 - val_loss: 1.2011 - val_accuracy: 0.4795\n",
      "Epoch 2/10\n",
      "2/2 [==============================] - 1s 604ms/step - loss: 1.4341 - accuracy: 0.5000 - val_loss: 0.5572 - val_accuracy: 0.7534\n",
      "Epoch 3/10\n",
      "2/2 [==============================] - 1s 719ms/step - loss: 0.6735 - accuracy: 0.6778 - val_loss: 1.3551 - val_accuracy: 0.4795\n",
      "Epoch 4/10\n",
      "2/2 [==============================] - 1s 672ms/step - loss: 0.8867 - accuracy: 0.6667 - val_loss: 0.9335 - val_accuracy: 0.4795\n",
      "Epoch 5/10\n",
      "2/2 [==============================] - 1s 564ms/step - loss: 0.6447 - accuracy: 0.6944 - val_loss: 0.5196 - val_accuracy: 0.8219\n",
      "Epoch 6/10\n",
      "2/2 [==============================] - 1s 601ms/step - loss: 0.6377 - accuracy: 0.6111 - val_loss: 0.5169 - val_accuracy: 0.7534\n",
      "Epoch 7/10\n",
      "2/2 [==============================] - 1s 600ms/step - loss: 0.6453 - accuracy: 0.6111 - val_loss: 0.5563 - val_accuracy: 0.7534\n",
      "Epoch 8/10\n",
      "2/2 [==============================] - 1s 708ms/step - loss: 0.5721 - accuracy: 0.7000 - val_loss: 0.6855 - val_accuracy: 0.5753\n",
      "Epoch 9/10\n",
      "2/2 [==============================] - 1s 740ms/step - loss: 0.5727 - accuracy: 0.7056 - val_loss: 0.6805 - val_accuracy: 0.5753\n",
      "Epoch 10/10\n",
      "2/2 [==============================] - 1s 582ms/step - loss: 0.5664 - accuracy: 0.7167 - val_loss: 0.5736 - val_accuracy: 0.6712\n"
     ]
    },
    {
     "data": {
      "text/plain": [
       "<tensorflow.python.keras.callbacks.History at 0x1689cd2c7c0>"
      ]
     },
     "execution_count": 36,
     "metadata": {},
     "output_type": "execute_result"
    }
   ],
   "source": [
    "model.fit_generator(x_train,steps_per_epoch=len(x_train),epochs=10,validation_data=x_test,validation_steps=len(x_test))"
   ]
  },
  {
   "cell_type": "code",
   "execution_count": 37,
   "id": "432d4d37",
   "metadata": {},
   "outputs": [],
   "source": [
    "model.save(\"brain_tumor.h5\")"
   ]
  },
  {
   "cell_type": "code",
   "execution_count": 38,
   "id": "bbe69ae0",
   "metadata": {},
   "outputs": [],
   "source": [
    "import numpy as np\n",
    "from tensorflow.keras.models import load_model\n",
    "from tensorflow.keras.preprocessing import image"
   ]
  },
  {
   "cell_type": "code",
   "execution_count": 46,
   "id": "735db8b6",
   "metadata": {},
   "outputs": [
    {
     "data": {
      "text/plain": [
       "array([0], dtype=int64)"
      ]
     },
     "execution_count": 46,
     "metadata": {},
     "output_type": "execute_result"
    }
   ],
   "source": [
    "model=load_model('brain_tumor.h5')\n",
    "img=image.load_img(r\"F:\\ML&DL-Inter\\Brain_Tumor_Train_Test_Folders\\test_set\\no\\no 94.jpg\",target_size=(64,64))\n",
    "x=image.img_to_array(img)\n",
    "x=np.expand_dims(x,axis=0)\n",
    "pred=model.predict_classes(x)\n",
    "pred"
   ]
  },
  {
   "cell_type": "code",
   "execution_count": 47,
   "id": "750f0bf8",
   "metadata": {},
   "outputs": [
    {
     "name": "stdout",
     "output_type": "stream",
     "text": [
      "no\n"
     ]
    }
   ],
   "source": [
    "index=['no', 'yes']\n",
    "print(index[pred[0]])"
   ]
  },
  {
   "cell_type": "code",
   "execution_count": null,
   "id": "0909278d",
   "metadata": {},
   "outputs": [],
   "source": []
  }
 ],
 "metadata": {
  "kernelspec": {
   "display_name": "Python 3 (ipykernel)",
   "language": "python",
   "name": "python3"
  },
  "language_info": {
   "codemirror_mode": {
    "name": "ipython",
    "version": 3
   },
   "file_extension": ".py",
   "mimetype": "text/x-python",
   "name": "python",
   "nbconvert_exporter": "python",
   "pygments_lexer": "ipython3",
   "version": "3.9.7"
  }
 },
 "nbformat": 4,
 "nbformat_minor": 5
}
